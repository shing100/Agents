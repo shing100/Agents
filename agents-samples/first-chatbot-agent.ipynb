{
 "cells": [
  {
   "cell_type": "code",
   "id": "initial_id",
   "metadata": {
    "collapsed": true,
    "ExecuteTime": {
     "end_time": "2025-09-28T05:52:55.788959Z",
     "start_time": "2025-09-28T05:52:55.426461Z"
    }
   },
   "source": [
    "import openai\n",
    "\n",
    "client = openai.OpenAI()\n",
    "messages  = []"
   ],
   "outputs": [],
   "execution_count": 16
  },
  {
   "metadata": {
    "ExecuteTime": {
     "end_time": "2025-09-28T05:57:32.604524Z",
     "start_time": "2025-09-28T05:57:32.599510Z"
    }
   },
   "cell_type": "code",
   "source": [
    "def call_ai():\n",
    "    response = client.chat.completions.create(\n",
    "            model=\"gpt-5-nano-2025-08-07\",\n",
    "            messages=messages,\n",
    "        )\n",
    "    message = response.choices[0].message.content\n",
    "    messages.append({\"role\": \"assistant\", \"content\": message})\n",
    "    print(f\"AI: {message}\")"
   ],
   "id": "6337ced3ec1dfe0e",
   "outputs": [],
   "execution_count": 19
  },
  {
   "metadata": {
    "ExecuteTime": {
     "end_time": "2025-09-28T05:58:40.800954Z",
     "start_time": "2025-09-28T05:58:09.848942Z"
    }
   },
   "cell_type": "code",
   "source": [
    "while True:\n",
    "    message = input(\"User: \")\n",
    "    if message == 'quit' or message == 'q':\n",
    "        break\n",
    "    else:\n",
    "        messages.append({\"role\": \"user\", \"content\": message})\n",
    "        print(f\"User: {message}\")\n",
    "        call_ai()"
   ],
   "id": "acc914a7fe2bdf1e",
   "outputs": [
    {
     "name": "stdout",
     "output_type": "stream",
     "text": [
      "User: my name is geun\n",
      "AI: Nice to meet you, Geun! Would you like me to call you Geun in our chats? I can remember your name for this conversation if you’d like. What would you like to do today? I can help with questions, ideas, language practice, or anything else. If you’re curious about pronunciation of your name, I can offer tips too.\n",
      "User: what is my name\n",
      "AI: Your name is Geun.\n",
      "\n",
      "Would you like me to remember it for this chat and use that spelling? If you prefer a different capitalization or a nickname, tell me and I’ll use that. What would you like to do next?\n"
     ]
    }
   ],
   "execution_count": 21
  }
 ],
 "metadata": {
  "kernelspec": {
   "display_name": "Python 3",
   "language": "python",
   "name": "python3"
  },
  "language_info": {
   "codemirror_mode": {
    "name": "ipython",
    "version": 2
   },
   "file_extension": ".py",
   "mimetype": "text/x-python",
   "name": "python",
   "nbconvert_exporter": "python",
   "pygments_lexer": "ipython2",
   "version": "2.7.6"
  }
 },
 "nbformat": 4,
 "nbformat_minor": 5
}
