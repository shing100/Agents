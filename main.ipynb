{
 "cells": [
  {
   "cell_type": "code",
   "id": "initial_id",
   "metadata": {
    "collapsed": true,
    "ExecuteTime": {
     "end_time": "2025-09-28T05:36:41.582717Z",
     "start_time": "2025-09-28T05:36:37.466101Z"
    }
   },
   "source": [
    "from cmd import PROMPT\n",
    "\n",
    "import openai\n",
    "\n",
    "client = openai.OpenAI()\n",
    "\n",
    "response = client.chat.completions.create(\n",
    "    model=\"gpt-5-nano-2025-08-07\",\n",
    "    messages=[\n",
    "        {\"role\": \"user\", \"content\": \"그리스의 수도 알려줘\"},\n",
    "    ],\n",
    ")"
   ],
   "outputs": [],
   "execution_count": 5
  },
  {
   "metadata": {
    "ExecuteTime": {
     "end_time": "2025-09-28T05:39:42.940152Z",
     "start_time": "2025-09-28T05:39:42.934085Z"
    }
   },
   "cell_type": "code",
   "source": [
    "message = response.choices[0].message.content\n",
    "\n",
    "message"
   ],
   "id": "6f979d8cef44134b",
   "outputs": [
    {
     "data": {
      "text/plain": [
       "'그리스의 수도는 아테네입니다.'"
      ]
     },
     "execution_count": 9,
     "metadata": {},
     "output_type": "execute_result"
    }
   ],
   "execution_count": 9
  },
  {
   "metadata": {
    "ExecuteTime": {
     "end_time": "2025-09-28T05:46:35.580803Z",
     "start_time": "2025-09-28T05:46:31.413474Z"
    }
   },
   "cell_type": "code",
   "source": [
    "PROMPT = \"\"\"\n",
    "I have the following functions in my system.\n",
    "\n",
    "`get_weather`\n",
    "`get_currency`\n",
    "`get_news`\n",
    "\n",
    "All of them receive the name of a coountry as an argument (i.e get_news('spain'))\n",
    "\n",
    "Please answer with the name of the function that you would like me to run.\n",
    "\n",
    "Please say nothing else, just the name of the function with the arguments\n",
    "\n",
    "Answer the following question:\n",
    "\n",
    "What is the weather in Greece?\n",
    "\"\"\"\n",
    "\n",
    "response = client.chat.completions.create(\n",
    "    model=\"gpt-5-nano-2025-08-07\",\n",
    "    messages=[\n",
    "        {\"role\": \"user\", \"content\": PROMPT},\n",
    "    ],\n",
    ")"
   ],
   "id": "9a97a7268de4514",
   "outputs": [],
   "execution_count": 11
  },
  {
   "metadata": {
    "ExecuteTime": {
     "end_time": "2025-09-28T05:46:35.605918Z",
     "start_time": "2025-09-28T05:46:35.600842Z"
    }
   },
   "cell_type": "code",
   "source": [
    "message = response.choices[0].message.content\n",
    "\n",
    "message"
   ],
   "id": "b8e6aa708e354384",
   "outputs": [
    {
     "data": {
      "text/plain": [
       "\"get_weather('greece')\""
      ]
     },
     "execution_count": 12,
     "metadata": {},
     "output_type": "execute_result"
    }
   ],
   "execution_count": 12
  }
 ],
 "metadata": {
  "kernelspec": {
   "display_name": "Python 3",
   "language": "python",
   "name": "python3"
  },
  "language_info": {
   "codemirror_mode": {
    "name": "ipython",
    "version": 2
   },
   "file_extension": ".py",
   "mimetype": "text/x-python",
   "name": "python",
   "nbconvert_exporter": "python",
   "pygments_lexer": "ipython2",
   "version": "2.7.6"
  }
 },
 "nbformat": 4,
 "nbformat_minor": 5
}
