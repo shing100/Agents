{
 "cells": [
  {
   "cell_type": "code",
   "id": "initial_id",
   "metadata": {
    "collapsed": true,
    "ExecuteTime": {
     "end_time": "2025-10-23T14:09:18.706967Z",
     "start_time": "2025-10-23T14:09:13.120652Z"
    }
   },
   "source": [
    "from autogen_agentchat.teams import RoundRobinGroupChat\n",
    "from autogen_agentchat.agents import AssistantAgent\n",
    "from autogen_ext.models.openai import OpenAIChatCompletionClient\n",
    "from autogen_agentchat.conditions import MaxMessageTermination, TextMentionTermination\n",
    "from autogen_agentchat.ui import Console"
   ],
   "outputs": [],
   "execution_count": 2
  },
  {
   "metadata": {},
   "cell_type": "code",
   "outputs": [],
   "execution_count": null,
   "source": [
    "model = OpenAIChatCompletionClient(model=\"gpt-4.1-mini\")\n",
    "\n",
    "clarity_agent = AssistantAgent()\n",
    "\n",
    "tone_agent = AssistantAgent()\n",
    "\n",
    "persuasion_agent = AssistantAgent()\n",
    "\n",
    "synthesizer_agent = AssistantAgent()\n",
    "\n",
    "critic_agent = AssistantAgent()"
   ],
   "id": "98a5e233b4d1aa72"
  }
 ],
 "metadata": {
  "kernelspec": {
   "display_name": "Python 3 (ipykernel)",
   "language": "python",
   "name": "python3"
  },
  "language_info": {
   "codemirror_mode": {
    "name": "ipython",
    "version": 2
   },
   "file_extension": ".py",
   "mimetype": "text/x-python",
   "name": "python",
   "nbconvert_exporter": "python",
   "pygments_lexer": "ipython2",
   "version": "2.7.6"
  }
 },
 "nbformat": 4,
 "nbformat_minor": 5
}
