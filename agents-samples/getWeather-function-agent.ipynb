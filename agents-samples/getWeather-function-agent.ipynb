{
 "cells": [
  {
   "cell_type": "code",
   "id": "initial_id",
   "metadata": {
    "collapsed": true,
    "ExecuteTime": {
     "end_time": "2025-09-28T06:30:47.462029Z",
     "start_time": "2025-09-28T06:30:46.928560Z"
    }
   },
   "source": [
    "import json\n",
    "\n",
    "import openai\n",
    "from openai.types.chat import ChatCompletionMessage\n",
    "\n",
    "client = openai.OpenAI()\n",
    "messages  = []"
   ],
   "outputs": [],
   "execution_count": 39
  },
  {
   "metadata": {
    "ExecuteTime": {
     "end_time": "2025-09-28T06:25:29.306794Z",
     "start_time": "2025-09-28T06:25:29.302281Z"
    }
   },
   "cell_type": "code",
   "source": [
    "def get_weather(city: str) -> str:\n",
    "    # Dummy implementation for example purposes\n",
    "    return f\"The current weather in {city} is sunny with a temperature of 25°C.\"\n",
    "\n",
    "FUNCTION_MAP = {\"get_weather\": get_weather}"
   ],
   "id": "4a9fdc30f172413b",
   "outputs": [],
   "execution_count": 32
  },
  {
   "metadata": {
    "ExecuteTime": {
     "end_time": "2025-09-28T06:25:29.888012Z",
     "start_time": "2025-09-28T06:25:29.882147Z"
    }
   },
   "cell_type": "code",
   "source": [
    "TOOLS = [\n",
    "    {\n",
    "        \"type\": \"function\",\n",
    "        \"function\": {\n",
    "            \"name\": \"get_weather\",\n",
    "            \"description\": \"Get the current weather in a given location\",\n",
    "            \"parameters\": {\n",
    "                \"type\": \"object\",\n",
    "                \"properties\": {\n",
    "                    \"city\": {\n",
    "                        \"type\": \"string\",\n",
    "                        \"description\": \"The name of the city to get the weather for\",\n",
    "                    },\n",
    "                },\n",
    "                \"required\": [\"city\"],\n",
    "            },\n",
    "        }\n",
    "    }\n",
    "]"
   ],
   "id": "99d1250d0c0b769f",
   "outputs": [],
   "execution_count": 33
  },
  {
   "metadata": {
    "ExecuteTime": {
     "end_time": "2025-09-28T06:31:52.706243Z",
     "start_time": "2025-09-28T06:31:52.699224Z"
    }
   },
   "cell_type": "code",
   "source": [
    "from openai.types.chat import ChatCompletionMessage\n",
    "\n",
    "def process_ai_response(message: ChatCompletionMessage):\n",
    "    if message.tool_calls:\n",
    "        messages.append({\"role\": \"assistant\",\n",
    "             \"content\": message.content  or  \"\",\n",
    "             \"tool_calls\": [\n",
    "                 {\n",
    "                     \"id\": tool_call.id,\n",
    "                     \"type\": \"function\",\n",
    "                     \"function\": {\n",
    "                        \"name\": tool_call.function.name,\n",
    "                        \"arguments\": tool_call.function.arguments,\n",
    "                     }\n",
    "                 }\n",
    "                 for tool_call in message.tool_calls\n",
    "             ]\n",
    "        })\n",
    "\n",
    "        for tool_call in message.tool_calls:\n",
    "            function_name = tool_call.function.name\n",
    "            arguments = tool_call.function.arguments\n",
    "\n",
    "            print(f\"Calling function: {function_name} with arguments: {arguments}\")\n",
    "\n",
    "            try:\n",
    "                arguments = json.loads(arguments)\n",
    "            except json.decoder.JSONDecodeError:\n",
    "                arguments = {}\n",
    "\n",
    "            function_to_run = FUNCTION_MAP.get(function_name)\n",
    "\n",
    "            result = function_to_run(**arguments)\n",
    "\n",
    "            print(f\"Run {function_name} with arguments {arguments} got result: {result}\")\n",
    "\n",
    "            messages.append(\n",
    "                {\n",
    "                    \"role\": \"tool\",\n",
    "                    \"tool_call_id\": tool_call.id,\n",
    "                    \"name\": function_name,\n",
    "                    \"content\": result,\n",
    "                })\n",
    "\n",
    "        call_ai()\n",
    "    else:\n",
    "        messages.append({\"role\": \"assistant\", \"content\": message.content})\n",
    "        print(f\"AI: {message.content}\")"
   ],
   "id": "d240499bcc9b3374",
   "outputs": [],
   "execution_count": 42
  },
  {
   "metadata": {
    "ExecuteTime": {
     "end_time": "2025-09-28T06:30:12.442365Z",
     "start_time": "2025-09-28T06:30:12.437797Z"
    }
   },
   "cell_type": "code",
   "source": [
    "def call_ai():\n",
    "    response = client.chat.completions.create(\n",
    "            model=\"gpt-5-nano-2025-08-07\",\n",
    "            reasoning_effort=\"low\",\n",
    "            messages=messages,\n",
    "            tools=TOOLS,\n",
    "        )\n",
    "    process_ai_response(response.choices[0].message)"
   ],
   "id": "6337ced3ec1dfe0e",
   "outputs": [],
   "execution_count": 38
  },
  {
   "metadata": {
    "ExecuteTime": {
     "end_time": "2025-09-28T06:32:35.302111Z",
     "start_time": "2025-09-28T06:31:56.095983Z"
    }
   },
   "cell_type": "code",
   "source": [
    "while True:\n",
    "    message = input(\"User: \")\n",
    "    if message == 'quit' or message == 'q':\n",
    "        break\n",
    "    else:\n",
    "        messages.append({\"role\": \"user\", \"content\": message})\n",
    "        print(f\"User: {message}\")\n",
    "        call_ai()"
   ],
   "id": "acc914a7fe2bdf1e",
   "outputs": [
    {
     "name": "stdout",
     "output_type": "stream",
     "text": [
      "User: 내 이름은 근이야\n",
      "AI: 반갑습니다, 근이님! 이 대화에서는 근이님이라고 불러드리겠습니다. 다른 호칭이 필요하시면 말씀해 주세요. 무엇을 도와드릴까요?\n",
      "User: 서울 날씨는 어떄?\n",
      "Calling function: get_weather with arguments: {\"city\":\"Seoul\"}\n",
      "Run get_weather with arguments {'city': 'Seoul'} got result: The current weather in Seoul is sunny with a temperature of 25°C.\n",
      "AI: 서울의 현재 날씨는 맑고 기온은 25°C입니다. 외출하기에 적당한 날씨예요. 필요하시면 체감온도나 바람 정보도 같이 알려드릴게요. 다른 정보가 필요하신가요?\n"
     ]
    }
   ],
   "execution_count": 43
  },
  {
   "metadata": {},
   "cell_type": "code",
   "outputs": [],
   "execution_count": null,
   "source": "",
   "id": "ffb205cafda1d25c"
  }
 ],
 "metadata": {
  "kernelspec": {
   "display_name": "Python 3",
   "language": "python",
   "name": "python3"
  },
  "language_info": {
   "codemirror_mode": {
    "name": "ipython",
    "version": 2
   },
   "file_extension": ".py",
   "mimetype": "text/x-python",
   "name": "python",
   "nbconvert_exporter": "python",
   "pygments_lexer": "ipython2",
   "version": "2.7.6"
  }
 },
 "nbformat": 4,
 "nbformat_minor": 5
}
